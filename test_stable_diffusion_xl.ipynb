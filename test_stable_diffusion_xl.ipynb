{
 "cells": [
  {
   "cell_type": "code",
   "execution_count": null,
   "metadata": {},
   "outputs": [],
   "source": [
    "import torch\n",
    "from diffusers import DiffusionPipeline"
   ]
  },
  {
   "cell_type": "markdown",
   "metadata": {},
   "source": [
    "### Text2Image flow"
   ]
  },
  {
   "cell_type": "code",
   "execution_count": null,
   "metadata": {},
   "outputs": [],
   "source": [
    "\n",
    "model_name = \"stabilityai/stable-diffusion-xl-base-0.9\"\n",
    "# txt2img pipeline\n",
    "pipe = DiffusionPipeline.from_pretrained(model_name, torch_dtype=torch.float16, use_safetensors=False, variant=\"fp16\")\n",
    "pipe.to(\"cuda\")\n"
   ]
  },
  {
   "cell_type": "code",
   "execution_count": null,
   "metadata": {},
   "outputs": [],
   "source": [
    "#prompt = \"An astronaut riding a green horse\"\n",
    "\n",
    "prompt = \"A picture of elmo raising his harms, standing in front of a fire background\"\n",
    "\n",
    "image = pipe(prompt=prompt).images[0]"
   ]
  },
  {
   "cell_type": "code",
   "execution_count": null,
   "metadata": {},
   "outputs": [],
   "source": [
    "# look at the image\n",
    "image"
   ]
  },
  {
   "cell_type": "code",
   "execution_count": null,
   "metadata": {},
   "outputs": [],
   "source": [
    "#this is how you save the model to register on the aml workspace\n",
    "#pipe.save_pretrained('./models/stable-diffusion-xl-base-0.9')"
   ]
  },
  {
   "cell_type": "markdown",
   "metadata": {},
   "source": [
    "### Image2Image flow"
   ]
  },
  {
   "cell_type": "code",
   "execution_count": null,
   "metadata": {},
   "outputs": [],
   "source": [
    "#test out the img2img pipeline\n",
    "# It is now more of a refiner\n",
    "\n",
    "from diffusers import StableDiffusionXLImg2ImgPipeline\n",
    "\n",
    "#model_name = \"stabilityai/stable-diffusion-xl-refiner-0.9\"\n",
    "\n",
    "#Can you use the base model? \n",
    "model_name = \"stabilityai/stable-diffusion-xl-base-0.9\"\n",
    "\n",
    "pipe = StableDiffusionXLImg2ImgPipeline.from_pretrained(model_name, torch_dtype=torch.float16)\n",
    "pipe = pipe.to('cuda')"
   ]
  },
  {
   "cell_type": "code",
   "execution_count": null,
   "metadata": {},
   "outputs": [],
   "source": [
    "from PIL import Image\n",
    "import os\n",
    "\n",
    "file =  os.path.join(\"images\", \"elmo.jpg\")\n",
    "img = Image.open(file).convert(\"RGB\")\n",
    "img = img.resize((1024, 1024))"
   ]
  },
  {
   "cell_type": "code",
   "execution_count": null,
   "metadata": {},
   "outputs": [],
   "source": [
    "prompt = \"A picture of elmo raising his harms, standing in front of a fire background\"\n",
    "\n",
    "image = pipe(prompt=prompt, image=img, strength=.95, guidance_scale=7.5).images[0]\n",
    "# https://huggingface.co/docs/diffusers/v0.18.2/en/api/pipelines/stable_diffusion/stable_diffusion_xl#diffusers.StableDiffusionXLImg2ImgPipeline.__call__.strength"
   ]
  },
  {
   "cell_type": "code",
   "execution_count": null,
   "metadata": {},
   "outputs": [],
   "source": [
    "#look at image\n",
    "image"
   ]
  },
  {
   "cell_type": "code",
   "execution_count": null,
   "metadata": {},
   "outputs": [],
   "source": []
  }
 ],
 "metadata": {
  "kernelspec": {
   "display_name": "Python 3.8.5 ('ldm')",
   "language": "python",
   "name": "python3"
  },
  "language_info": {
   "codemirror_mode": {
    "name": "ipython",
    "version": 3
   },
   "file_extension": ".py",
   "mimetype": "text/x-python",
   "name": "python",
   "nbconvert_exporter": "python",
   "pygments_lexer": "ipython3",
   "version": "3.9.17"
  },
  "orig_nbformat": 4,
  "vscode": {
   "interpreter": {
    "hash": "836061b101677ab67408faaca0974c9fbb278c3803e5a934441e06f11cb6d61b"
   }
  }
 },
 "nbformat": 4,
 "nbformat_minor": 2
}
