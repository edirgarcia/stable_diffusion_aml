{
 "cells": [
  {
   "cell_type": "code",
   "execution_count": null,
   "metadata": {},
   "outputs": [],
   "source": [
    "import torch\n",
    "from diffusers import DiffusionPipeline"
   ]
  },
  {
   "cell_type": "code",
   "execution_count": null,
   "metadata": {},
   "outputs": [],
   "source": [
    "\n",
    "model_name = \"stabilityai/stable-diffusion-xl-base-0.9\"\n",
    "pipe = DiffusionPipeline.from_pretrained(model_name, torch_dtype=torch.float16, use_safetensors=False, variant=\"fp16\")\n",
    "pipe.to(\"cuda\")\n"
   ]
  },
  {
   "cell_type": "code",
   "execution_count": null,
   "metadata": {},
   "outputs": [],
   "source": [
    "\n",
    "\n",
    "prompt = \"a photo of an astronaut riding a horse on mars\"\n",
    "batch_size = 1\n",
    "prompt_input = [prompt] * batch_size\n",
    "\n",
    "with autocast(\"cuda\"):\n",
    "    images = pipe(prompt_input, guidance_scale=7.5).images   \n",
    "    \n",
    "#image.save(\"astronaut_rides_horse.png\")\n",
    "\n",
    "images"
   ]
  },
  {
   "cell_type": "code",
   "execution_count": null,
   "metadata": {},
   "outputs": [],
   "source": [
    "#images = images * 3"
   ]
  },
  {
   "cell_type": "code",
   "execution_count": null,
   "metadata": {},
   "outputs": [],
   "source": [
    "from io import BytesIO\n",
    "import base64\n",
    "\n",
    "result_image_str = [\"\"] * 3\n",
    "print(len(result_image_str))\n",
    "\n",
    "for i in range(len(images)):\n",
    "\n",
    "    buffered_result_image = BytesIO()\n",
    "\n",
    "    images[i].save(buffered_result_image, format=\"PNG\")\n",
    "    result_image_str[i] = base64.b64encode(buffered_result_image.getvalue()).decode('utf-8')\n",
    "\n",
    "result_image_str"
   ]
  },
  {
   "cell_type": "code",
   "execution_count": null,
   "metadata": {},
   "outputs": [],
   "source": [
    "#this is how you save the model to register on the aml workspace\n",
    "pipe.save_pretrained('models/stable-diffusion-v1-4')"
   ]
  },
  {
   "cell_type": "code",
   "execution_count": null,
   "metadata": {},
   "outputs": [],
   "source": []
  }
 ],
 "metadata": {
  "kernelspec": {
   "display_name": "Python 3.8.5 ('ldm')",
   "language": "python",
   "name": "python3"
  },
  "language_info": {
   "codemirror_mode": {
    "name": "ipython",
    "version": 3
   },
   "file_extension": ".py",
   "mimetype": "text/x-python",
   "name": "python",
   "nbconvert_exporter": "python",
   "pygments_lexer": "ipython3",
   "version": "3.9.17"
  },
  "orig_nbformat": 4,
  "vscode": {
   "interpreter": {
    "hash": "836061b101677ab67408faaca0974c9fbb278c3803e5a934441e06f11cb6d61b"
   }
  }
 },
 "nbformat": 4,
 "nbformat_minor": 2
}
