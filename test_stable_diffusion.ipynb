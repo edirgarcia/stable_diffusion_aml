{
 "cells": [
  {
   "cell_type": "code",
   "execution_count": null,
   "metadata": {},
   "outputs": [],
   "source": [
    "import torch\n",
    "from torch import autocast\n",
    "from diffusers import StableDiffusionPipeline, StableDiffusionImg2ImgPipeline\n",
    "import requests\n",
    "from PIL import Image\n",
    "from io import BytesIO"
   ]
  },
  {
   "cell_type": "markdown",
   "metadata": {},
   "source": [
    "### Text2Image flow"
   ]
  },
  {
   "cell_type": "code",
   "execution_count": null,
   "metadata": {},
   "outputs": [],
   "source": [
    "\n",
    "#model_id = \"CompVis/stable-diffusion-v1-4\"\n",
    "model_id = \"runwayml/stable-diffusion-v1-5\"\n",
    "device = \"cuda\"\n",
    "\n",
    "# this for the regular FP32 model\n",
    "#pipe = StableDiffusionPipeline.from_pretrained(model_id, use_auth_token=True)\n",
    "#pipe = pipe.to(device)\n",
    "\n",
    "#this for the FP16 model\n",
    "pipe = StableDiffusionPipeline.from_pretrained(model_id, torch_dtype=torch.float16, revision=\"fp16\", use_auth_token=True)\n",
    "pipe = pipe.to(device)"
   ]
  },
  {
   "cell_type": "code",
   "execution_count": null,
   "metadata": {},
   "outputs": [],
   "source": [
    "prompt = \"a photo of an astronaut riding a horse on mars\"\n",
    "batch_size = 1\n",
    "prompt_input = [prompt] * batch_size\n",
    "\n",
    "with autocast(\"cuda\"):\n",
    "    image = pipe(prompt_input, guidance_scale=7.5).images[0]\n",
    "    \n",
    "#image.save(\"astronaut_rides_horse.png\")\n",
    "\n",
    "image"
   ]
  },
  {
   "cell_type": "code",
   "execution_count": null,
   "metadata": {},
   "outputs": [],
   "source": [
    "# this is to test out how to convert to base64, to pass in using to the managed endpoint\n",
    "from io import BytesIO\n",
    "import base64\n",
    "\n",
    "result_image_str = [\"\"] * 3\n",
    "print(len(result_image_str))\n",
    "\n",
    "for i in range(len(images)):\n",
    "\n",
    "    buffered_result_image = BytesIO()\n",
    "\n",
    "    images[i].save(buffered_result_image, format=\"PNG\")\n",
    "    result_image_str[i] = base64.b64encode(buffered_result_image.getvalue()).decode('utf-8')\n",
    "\n",
    "result_image_str"
   ]
  },
  {
   "cell_type": "code",
   "execution_count": null,
   "metadata": {},
   "outputs": [],
   "source": [
    "#this is how you save the model to register on the aml workspace\n",
    "pipe.save_pretrained('models/stable-diffusion-v1-5')"
   ]
  },
  {
   "cell_type": "markdown",
   "metadata": {},
   "source": [
    "### Image2Image Flow"
   ]
  },
  {
   "cell_type": "code",
   "execution_count": null,
   "metadata": {},
   "outputs": [],
   "source": [
    "model_id = \"CompVis/stable-diffusion-v1-4\"\n",
    "#model_id = \"runwayml/stable-diffusion-v1-5\"\n",
    "device = \"cuda\"\n",
    "\n",
    "\n",
    "#this for the FP16 model\n",
    "pipe = StableDiffusionImg2ImgPipeline.from_pretrained(model_id, torch_dtype=torch.float16, revision=\"fp16\", use_auth_token=True)\n",
    "pipe = pipe.to(device)"
   ]
  },
  {
   "cell_type": "code",
   "execution_count": null,
   "metadata": {},
   "outputs": [],
   "source": [
    "from PIL import Image\n",
    "import os\n",
    "\n",
    "file =  os.path.join(\"images\", \"elmo.jpg\")\n",
    "img = Image.open(file).convert(\"RGB\")\n",
    "img = img.resize((512, 512))"
   ]
  },
  {
   "cell_type": "code",
   "execution_count": null,
   "metadata": {},
   "outputs": [],
   "source": [
    "prompt = \"a photo of elmo stangind in front of a fiery pit\"\n",
    "\n",
    "with autocast(\"cuda\"):\n",
    "    image = pipe(prompt=prompt, image=img, strength=.75, guidance_scale=7.5).images[0]\n",
    "    \n",
    "image\n",
    "\n",
    "#image.save(\"astronaut_rides_horse.png\")"
   ]
  }
 ],
 "metadata": {
  "kernelspec": {
   "display_name": "Python 3.8.5 ('ldm')",
   "language": "python",
   "name": "python3"
  },
  "language_info": {
   "codemirror_mode": {
    "name": "ipython",
    "version": 3
   },
   "file_extension": ".py",
   "mimetype": "text/x-python",
   "name": "python",
   "nbconvert_exporter": "python",
   "pygments_lexer": "ipython3",
   "version": "3.9.17"
  },
  "orig_nbformat": 4,
  "vscode": {
   "interpreter": {
    "hash": "836061b101677ab67408faaca0974c9fbb278c3803e5a934441e06f11cb6d61b"
   }
  }
 },
 "nbformat": 4,
 "nbformat_minor": 2
}
