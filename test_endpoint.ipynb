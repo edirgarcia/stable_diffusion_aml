{
 "cells": [
  {
   "cell_type": "code",
   "execution_count": null,
   "metadata": {},
   "outputs": [],
   "source": [
    "import urllib.request\n",
    "import json\n",
    "import os\n",
    "import ssl\n",
    "from PIL import Image\n",
    "from io import BytesIO\n",
    "import base64\n",
    "import matplotlib.pyplot as plt"
   ]
  },
  {
   "cell_type": "code",
   "execution_count": null,
   "metadata": {},
   "outputs": [],
   "source": [
    "data = {\"prompt\": \"A fantasy style highly detailed drawing of a knight fighting a dragon on the style of Greg Rutkowski\",\n",
    "       \"image\":\"\"}  \n",
    "\n",
    "data1 = {\"prompt\": \"A photorealistic highly detailed painting of a sorceress wearing green robes on the style of Gustav Klimt\",\n",
    "       \"image\":\"\"}  \n",
    "\n",
    "data2 = {\"prompt\": \"A portrait of UK Prime Minister Boris Johson wearing a dark suit, Grand Theft Auto Cover art style, detailed and colorful\",\n",
    "       \"image\":\"\"} \n",
    "\n",
    "data3 = {\"prompt\": \"Grand Theft Auto style painting of a bearded man wearing glasses and a baseball hat, sharp lines\",\n",
    "       \"image\":\"\"} \n",
    "\n",
    "data4 = {\"prompt\": \"A detailed painting of the cloudy Seattle Skyline, Trending On deviant art colorful\",\n",
    "       \"image\":\"\"} \n",
    "\n",
    "data5 = {\"prompt\": \"A detailed painting of the Elmo raising his arms melting in front of a fiery pit, Greg Rutkowski\",\n",
    "       \"image\":\"\"} \n",
    "\n",
    "       #\"contentType\": \"JPEG\""
   ]
  },
  {
   "cell_type": "code",
   "execution_count": null,
   "metadata": {},
   "outputs": [],
   "source": [
    "\n",
    "def allowSelfSignedHttps(allowed):\n",
    "    # bypass the server certificate verification on client side\n",
    "    if allowed and not os.environ.get('PYTHONHTTPSVERIFY', '') and getattr(ssl, '_create_unverified_context', None):\n",
    "        ssl._create_default_https_context = ssl._create_unverified_context\n",
    "\n",
    "allowSelfSignedHttps(True) # this line is needed if you use self-signed certificate in your scoring service.\n",
    "\n",
    "def call_img2img_endpoint(data):\n",
    "\n",
    "    body = str.encode(json.dumps(data))\n",
    "\n",
    "    #You can find these in the consume section of your endpoint\n",
    "    url = 'YOUR_URL_HERE'\n",
    "    api_key = 'YOUR_KEY_HERE' # Replace this with the API key for the web service\n",
    "\n",
    "    # The azureml-model-deployment header will force the request to go to a specific deployment.\n",
    "    # Remove this header to have the request observe the endpoint traffic rules\n",
    "    headers = {'Content-Type':'application/json', 'Authorization':('Bearer '+ api_key), 'azureml-model-deployment': 'default' }\n",
    "\n",
    "    req = urllib.request.Request(url, body, headers)\n",
    "\n",
    "    try:\n",
    "        response = urllib.request.urlopen(req)\n",
    "\n",
    "        result = response.read()\n",
    "        print(result)\n",
    "    except urllib.error.HTTPError as error:\n",
    "        print(\"The request failed with status code: \" + str(error.code))\n",
    "\n",
    "        # Print the headers - they include the requert ID and the timestamp, which are useful for debugging the failure\n",
    "        print(error.info())\n",
    "        print(error.read().decode(\"utf8\", 'ignore'))\n",
    "\n",
    "    return result\n"
   ]
  },
  {
   "cell_type": "code",
   "execution_count": null,
   "metadata": {},
   "outputs": [],
   "source": [
    "file = os.path.join(\"images\", \"elmo.jpg\")\n",
    "img = Image.open(file)\n",
    "\n",
    "buffered_result_image = BytesIO()\n",
    "\n",
    "img.save(buffered_result_image, format=\"PNG\")\n",
    "result_image_str = base64.b64encode(buffered_result_image.getvalue()).decode('utf-8')\n",
    "data5[\"image\"] = result_image_str\n",
    "data5[\"strength\"] = .85\n",
    "\n",
    "img"
   ]
  },
  {
   "cell_type": "code",
   "execution_count": null,
   "metadata": {},
   "outputs": [],
   "source": [
    "result = call_img2img_endpoint(data5)\n",
    "result_dict = json.loads(result.decode('utf-8'))"
   ]
  },
  {
   "cell_type": "code",
   "execution_count": null,
   "metadata": {},
   "outputs": [],
   "source": [
    "def display_result_images(result_dict):\n",
    "\n",
    "    if \"result\" in result_dict:\n",
    "        # if it's only one image\n",
    "        im = Image.open(BytesIO(base64.b64decode(result_dict[\"result\"])))\n",
    "        plt.imshow(im)\n",
    "    else :\n",
    "        plt.figure(figsize=(20,30))\n",
    "        columns = 3\n",
    "        for i, img_b64 in enumerate(result_dict[\"results\"]):\n",
    "            plt.subplot(3, columns, i + 1)\n",
    "            image = Image.open(BytesIO(base64.b64decode(img_b64)))\n",
    "            plt.imshow(image)"
   ]
  },
  {
   "cell_type": "code",
   "execution_count": null,
   "metadata": {},
   "outputs": [],
   "source": [
    "display_result_images(result_dict)"
   ]
  }
 ],
 "metadata": {
  "kernelspec": {
   "display_name": "Python 3.8.5 ('ldm')",
   "language": "python",
   "name": "python3"
  },
  "language_info": {
   "codemirror_mode": {
    "name": "ipython",
    "version": 3
   },
   "file_extension": ".py",
   "mimetype": "text/x-python",
   "name": "python",
   "nbconvert_exporter": "python",
   "pygments_lexer": "ipython3",
   "version": "3.8.5"
  },
  "orig_nbformat": 4,
  "vscode": {
   "interpreter": {
    "hash": "836061b101677ab67408faaca0974c9fbb278c3803e5a934441e06f11cb6d61b"
   }
  }
 },
 "nbformat": 4,
 "nbformat_minor": 2
}
